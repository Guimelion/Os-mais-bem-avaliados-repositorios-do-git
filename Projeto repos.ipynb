{
 "cells": [
  {
   "cell_type": "code",
   "execution_count": 1,
   "id": "d1da324c",
   "metadata": {},
   "outputs": [],
   "source": [
    "import requests\n",
    "import json\n",
    "import requests\n",
    "from plotly.graph_objs import Bar\n",
    "from plotly import offline"
   ]
  },
  {
   "cell_type": "markdown",
   "id": "1db9f44c",
   "metadata": {},
   "source": [
    "aqui eu faço uma requisição para obter dados em formato json sobre os repositorios mais avaliados do github"
   ]
  },
  {
   "cell_type": "code",
   "execution_count": 20,
   "id": "93ae0a3b",
   "metadata": {},
   "outputs": [
    {
     "name": "stdout",
     "output_type": "stream",
     "text": [
      "status Code:200\n"
     ]
    }
   ],
   "source": [
    "url ='https://api.github.com/search/repositories?q=language:python&sort=stars'\n",
    "req =requests.get(url)\n",
    "print(f\"status Code:{req.status_code}\")\n",
    "resposta = req.json()"
   ]
  },
  {
   "cell_type": "code",
   "execution_count": 21,
   "id": "288ff68d",
   "metadata": {},
   "outputs": [],
   "source": [
    "itens = resposta['items']#salvo em uma variável todos os repositórios"
   ]
  },
  {
   "cell_type": "code",
   "execution_count": null,
   "id": "0327b4ec",
   "metadata": {},
   "outputs": [],
   "source": [
    "estrelas,nome = [],[]"
   ]
  },
  {
   "cell_type": "code",
   "execution_count": 12,
   "id": "d8bafc31",
   "metadata": {},
   "outputs": [],
   "source": [
    "for item in itens:\n",
    "    estrelas.append(item['stargazers_count'])\n",
    "    nome.append(item['name'])"
   ]
  },
  {
   "cell_type": "code",
   "execution_count": 18,
   "id": "0269dd3a",
   "metadata": {},
   "outputs": [
    {
     "data": {
      "text/plain": [
       "'Python_repositorios.html'"
      ]
     },
     "execution_count": 18,
     "metadata": {},
     "output_type": "execute_result"
    }
   ],
   "source": [
    "data= [{\n",
    "    'type':'bar',\n",
    "    'x' :nome,\n",
    "    'y' :estrelas,\n",
    "}]\n",
    "\n",
    "my_layout = {\n",
    "    'title' : 'Os mais bem avaliados repositorios do github',\n",
    "    'xaxis':{'title':'Nome do repositorio'},\n",
    "    'yaxis':{'title':'Número de estrelas'}\n",
    "}\n",
    "\n",
    "fig = {'data':data,'layout':my_layout}\n",
    "offline.plot(fig,filename='Python_repositorios.html')"
   ]
  }
 ],
 "metadata": {
  "kernelspec": {
   "display_name": "Python 3 (ipykernel)",
   "language": "python",
   "name": "python3"
  },
  "language_info": {
   "codemirror_mode": {
    "name": "ipython",
    "version": 3
   },
   "file_extension": ".py",
   "mimetype": "text/x-python",
   "name": "python",
   "nbconvert_exporter": "python",
   "pygments_lexer": "ipython3",
   "version": "3.9.12"
  }
 },
 "nbformat": 4,
 "nbformat_minor": 5
}
